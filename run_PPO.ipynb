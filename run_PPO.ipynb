{
 "cells": [
  {
   "cell_type": "code",
   "execution_count": 3,
   "metadata": {},
   "outputs": [
    {
     "name": "stdout",
     "output_type": "stream",
     "text": [
      "Name: gymnasium\n",
      "Version: 0.29.1\n",
      "Summary: A standard API for reinforcement learning and a diverse set of reference environments (formerly Gym).\n",
      "Home-page: \n",
      "Author: \n",
      "Author-email: Farama Foundation <contact@farama.org>\n",
      "License: MIT License\n",
      "Location: /usr/local/lib/python3.10/site-packages\n",
      "Requires: cloudpickle, farama-notifications, numpy, typing-extensions\n",
      "Required-by: \n",
      "Note: you may need to restart the kernel to use updated packages.\n"
     ]
    }
   ],
   "source": [
    "%pip show gymnasium"
   ]
  },
  {
   "cell_type": "code",
   "execution_count": 3,
   "metadata": {},
   "outputs": [
    {
     "name": "stdout",
     "output_type": "stream",
     "text": [
      "Requirement already satisfied: wandb==0.13.10 in /usr/local/lib/python3.10/site-packages (0.13.10)\n",
      "Requirement already satisfied: requests<3,>=2.0.0 in /usr/local/lib/python3.10/site-packages (from wandb==0.13.10) (2.28.1)\n",
      "Requirement already satisfied: psutil>=5.0.0 in /usr/local/lib/python3.10/site-packages (from wandb==0.13.10) (5.9.4)\n",
      "Requirement already satisfied: PyYAML in /usr/local/lib/python3.10/site-packages (from wandb==0.13.10) (6.0)\n",
      "Requirement already satisfied: Click!=8.0.0,>=7.0 in /usr/local/lib/python3.10/site-packages (from wandb==0.13.10) (8.1.3)\n",
      "Requirement already satisfied: GitPython>=1.0.0 in /usr/local/lib/python3.10/site-packages (from wandb==0.13.10) (3.1.31)\n",
      "Requirement already satisfied: docker-pycreds>=0.4.0 in /usr/local/lib/python3.10/site-packages (from wandb==0.13.10) (0.4.0)\n",
      "Requirement already satisfied: pathtools in /usr/local/lib/python3.10/site-packages (from wandb==0.13.10) (0.1.2)\n",
      "Requirement already satisfied: setproctitle in /usr/local/lib/python3.10/site-packages (from wandb==0.13.10) (1.3.3)\n",
      "Requirement already satisfied: protobuf!=4.21.0,<5,>=3.19.0 in /usr/local/lib/python3.10/site-packages (from wandb==0.13.10) (3.19.6)\n",
      "Requirement already satisfied: setuptools in /usr/local/lib/python3.10/site-packages (from wandb==0.13.10) (65.4.1)\n",
      "Requirement already satisfied: sentry-sdk>=1.0.0 in /usr/local/lib/python3.10/site-packages (from wandb==0.13.10) (1.40.5)\n",
      "Requirement already satisfied: appdirs>=1.4.3 in /usr/local/lib/python3.10/site-packages (from wandb==0.13.10) (1.4.4)\n",
      "Requirement already satisfied: six>=1.4.0 in /usr/local/lib/python3.10/site-packages (from docker-pycreds>=0.4.0->wandb==0.13.10) (1.16.0)\n",
      "Requirement already satisfied: gitdb<5,>=4.0.1 in /usr/local/lib/python3.10/site-packages (from GitPython>=1.0.0->wandb==0.13.10) (4.0.10)\n",
      "Requirement already satisfied: certifi>=2017.4.17 in /usr/local/lib/python3.10/site-packages (from requests<3,>=2.0.0->wandb==0.13.10) (2022.12.7)\n",
      "Requirement already satisfied: idna<4,>=2.5 in /usr/local/lib/python3.10/site-packages (from requests<3,>=2.0.0->wandb==0.13.10) (3.4)\n",
      "Requirement already satisfied: charset-normalizer<3,>=2 in /usr/local/lib/python3.10/site-packages (from requests<3,>=2.0.0->wandb==0.13.10) (2.1.1)\n",
      "Requirement already satisfied: urllib3<1.27,>=1.21.1 in /usr/local/lib/python3.10/site-packages (from requests<3,>=2.0.0->wandb==0.13.10) (1.26.13)\n",
      "Requirement already satisfied: smmap<6,>=3.0.1 in /usr/local/lib/python3.10/site-packages (from gitdb<5,>=4.0.1->GitPython>=1.0.0->wandb==0.13.10) (5.0.0)\n",
      "^C\n",
      "\u001b[31mERROR: Operation cancelled by user\u001b[0m\u001b[31m\n",
      "\u001b[0m\n",
      "\u001b[1m[\u001b[0m\u001b[34;49mnotice\u001b[0m\u001b[1;39;49m]\u001b[0m\u001b[39;49m A new release of pip is available: \u001b[0m\u001b[31;49m23.0.1\u001b[0m\u001b[39;49m -> \u001b[0m\u001b[32;49m24.0\u001b[0m\n",
      "\u001b[1m[\u001b[0m\u001b[34;49mnotice\u001b[0m\u001b[1;39;49m]\u001b[0m\u001b[39;49m To update, run: \u001b[0m\u001b[32;49mpython3.10 -m pip install --upgrade pip\u001b[0m\n",
      "Note: you may need to restart the kernel to use updated packages.\n",
      "Requirement already satisfied: einops in /usr/local/lib/python3.10/site-packages (0.7.0)\n",
      "\n",
      "\u001b[1m[\u001b[0m\u001b[34;49mnotice\u001b[0m\u001b[1;39;49m]\u001b[0m\u001b[39;49m A new release of pip is available: \u001b[0m\u001b[31;49m23.0.1\u001b[0m\u001b[39;49m -> \u001b[0m\u001b[32;49m24.0\u001b[0m\n",
      "\u001b[1m[\u001b[0m\u001b[34;49mnotice\u001b[0m\u001b[1;39;49m]\u001b[0m\u001b[39;49m To update, run: \u001b[0m\u001b[32;49mpython3.10 -m pip install --upgrade pip\u001b[0m\n",
      "Note: you may need to restart the kernel to use updated packages.\n",
      "zsh:1: no matches found: gym[atari]==0.23.1\n",
      "Note: you may need to restart the kernel to use updated packages.\n",
      "Requirement already satisfied: pygame in /usr/local/lib/python3.10/site-packages (2.5.2)\n",
      "\n",
      "\u001b[1m[\u001b[0m\u001b[34;49mnotice\u001b[0m\u001b[1;39;49m]\u001b[0m\u001b[39;49m A new release of pip is available: \u001b[0m\u001b[31;49m23.0.1\u001b[0m\u001b[39;49m -> \u001b[0m\u001b[32;49m24.0\u001b[0m\n",
      "\u001b[1m[\u001b[0m\u001b[34;49mnotice\u001b[0m\u001b[1;39;49m]\u001b[0m\u001b[39;49m To update, run: \u001b[0m\u001b[32;49mpython3.10 -m pip install --upgrade pip\u001b[0m\n",
      "Note: you may need to restart the kernel to use updated packages.\n",
      "Requirement already satisfied: jaxtyping in /usr/local/lib/python3.10/site-packages (0.2.25)\n",
      "Requirement already satisfied: numpy>=1.20.0 in /usr/local/lib/python3.10/site-packages (from jaxtyping) (1.26.4)\n",
      "Requirement already satisfied: typeguard<3,>=2.13.3 in /usr/local/lib/python3.10/site-packages (from jaxtyping) (2.13.3)\n",
      "Requirement already satisfied: typing-extensions>=3.7.4.1 in /usr/local/lib/python3.10/site-packages (from jaxtyping) (4.10.0)\n",
      "\n",
      "\u001b[1m[\u001b[0m\u001b[34;49mnotice\u001b[0m\u001b[1;39;49m]\u001b[0m\u001b[39;49m A new release of pip is available: \u001b[0m\u001b[31;49m23.0.1\u001b[0m\u001b[39;49m -> \u001b[0m\u001b[32;49m24.0\u001b[0m\n",
      "\u001b[1m[\u001b[0m\u001b[34;49mnotice\u001b[0m\u001b[1;39;49m]\u001b[0m\u001b[39;49m To update, run: \u001b[0m\u001b[32;49mpython3.10 -m pip install --upgrade pip\u001b[0m\n",
      "Note: you may need to restart the kernel to use updated packages.\n",
      "Requirement already satisfied: gymnasium in /usr/local/lib/python3.10/site-packages (0.29.1)\n",
      "Requirement already satisfied: farama-notifications>=0.0.1 in /usr/local/lib/python3.10/site-packages (from gymnasium) (0.0.4)\n",
      "Requirement already satisfied: typing-extensions>=4.3.0 in /usr/local/lib/python3.10/site-packages (from gymnasium) (4.10.0)\n",
      "Requirement already satisfied: cloudpickle>=1.2.0 in /usr/local/lib/python3.10/site-packages (from gymnasium) (2.2.0)\n",
      "Requirement already satisfied: numpy>=1.21.0 in /usr/local/lib/python3.10/site-packages (from gymnasium) (1.26.4)\n",
      "\n",
      "\u001b[1m[\u001b[0m\u001b[34;49mnotice\u001b[0m\u001b[1;39;49m]\u001b[0m\u001b[39;49m A new release of pip is available: \u001b[0m\u001b[31;49m23.0.1\u001b[0m\u001b[39;49m -> \u001b[0m\u001b[32;49m24.0\u001b[0m\n",
      "\u001b[1m[\u001b[0m\u001b[34;49mnotice\u001b[0m\u001b[1;39;49m]\u001b[0m\u001b[39;49m To update, run: \u001b[0m\u001b[32;49mpython3.10 -m pip install --upgrade pip\u001b[0m\n",
      "Note: you may need to restart the kernel to use updated packages.\n"
     ]
    }
   ],
   "source": [
    "# Install packages\n",
    "%pip install wandb==0.13.10\n",
    "%pip install einops\n",
    "%pip install gym[atari]==0.23.1\n",
    "%pip install gym==0.23.1\n",
    "%pip install pygame\n",
    "%pip install jaxtyping\n",
    "%pip install gymnasium\n",
    "%pip install autorom[accept-rom-license]\n",
    "%pip install ale-py"
   ]
  },
  {
   "cell_type": "code",
   "execution_count": 2,
   "metadata": {},
   "outputs": [],
   "source": [
    "import os\n",
    "import time\n",
    "import sys\n",
    "from dataclasses import dataclass\n",
    "from tqdm import tqdm\n",
    "import numpy as np\n",
    "from numpy.random import Generator\n",
    "import torch as t\n",
    "from torch import Tensor\n",
    "from torch.optim.optimizer import Optimizer\n",
    "import gym\n",
    "import gym.envs.registration\n",
    "from gym.envs.classic_control.cartpole import CartPoleEnv\n",
    "import torch.nn as nn\n",
    "import torch.optim as optim\n",
    "from torch.distributions.categorical import Categorical\n",
    "import einops\n",
    "from pathlib import Path\n",
    "from typing import List, Tuple, Literal, Union, Optional\n",
    "from jaxtyping import Float, Int\n",
    "import wandb\n",
    "from IPython.display import clear_output\n",
    "import matplotlib.pyplot as plt\n",
    "from matplotlib.animation import FuncAnimation\n",
    "import warnings\n",
    "\n",
    "# import files\n",
    "from trainer import PPOTrainer\n",
    "from utils import PPOArgs\n",
    "\n",
    "warnings.filterwarnings('ignore')\n",
    "\n",
    "Arr = np.ndarray\n",
    "\n",
    "device = t.device(\"cuda\" if t.cuda.is_available() else \"cpu\")\n",
    "\n",
    "MAIN = __name__ == \"__main__\" # TODO: check if needed later"
   ]
  },
  {
   "cell_type": "code",
   "execution_count": 2,
   "metadata": {},
   "outputs": [
    {
     "ename": "NameError",
     "evalue": "name 'PPOArgs' is not defined",
     "output_type": "error",
     "traceback": [
      "\u001b[0;31m---------------------------------------------------------------------------\u001b[0m",
      "\u001b[0;31mNameError\u001b[0m                                 Traceback (most recent call last)",
      "Cell \u001b[0;32mIn [2], line 1\u001b[0m\n\u001b[0;32m----> 1\u001b[0m args \u001b[38;5;241m=\u001b[39m \u001b[43mPPOArgs\u001b[49m(num_minibatches\u001b[38;5;241m=\u001b[39m\u001b[38;5;241m2\u001b[39m)\n",
      "\u001b[0;31mNameError\u001b[0m: name 'PPOArgs' is not defined"
     ]
    }
   ],
   "source": [
    "args = PPOArgs(num_minibatches=2)"
   ]
  },
  {
   "cell_type": "code",
   "execution_count": 3,
   "metadata": {},
   "outputs": [
    {
     "name": "stderr",
     "output_type": "stream",
     "text": [
      "Failed to detect the name of this notebook, you can set it manually with the WANDB_NOTEBOOK_NAME environment variable to enable code saving.\n",
      "\u001b[34m\u001b[1mwandb\u001b[0m: Currently logged in as: \u001b[33mjkundemenlo\u001b[0m. Use \u001b[1m`wandb login --relogin`\u001b[0m to force relogin\n"
     ]
    },
    {
     "data": {
      "text/html": [
       "wandb version 0.16.4 is available!  To upgrade, please run:\n",
       " $ pip install wandb --upgrade"
      ],
      "text/plain": [
       "<IPython.core.display.HTML object>"
      ]
     },
     "metadata": {},
     "output_type": "display_data"
    },
    {
     "data": {
      "text/html": [
       "Tracking run with wandb version 0.13.10"
      ],
      "text/plain": [
       "<IPython.core.display.HTML object>"
      ]
     },
     "metadata": {},
     "output_type": "display_data"
    },
    {
     "data": {
      "text/html": [
       "Run data is saved locally in <code>/Users/jacksonkunde/Desktop/PPO/wandb/run-20240308_095948-r04ig6j7</code>"
      ],
      "text/plain": [
       "<IPython.core.display.HTML object>"
      ]
     },
     "metadata": {},
     "output_type": "display_data"
    },
    {
     "data": {
      "text/html": [
       "Syncing run <strong><a href='https://wandb.ai/jkundemenlo/PPOCart/runs/r04ig6j7' target=\"_blank\">CartPole-v1__PPO_Implementation__1__1709913586</a></strong> to <a href='https://wandb.ai/jkundemenlo/PPOCart' target=\"_blank\">Weights & Biases</a> (<a href='https://wandb.me/run' target=\"_blank\">docs</a>)<br/>"
      ],
      "text/plain": [
       "<IPython.core.display.HTML object>"
      ]
     },
     "metadata": {},
     "output_type": "display_data"
    },
    {
     "data": {
      "text/html": [
       " View project at <a href='https://wandb.ai/jkundemenlo/PPOCart' target=\"_blank\">https://wandb.ai/jkundemenlo/PPOCart</a>"
      ],
      "text/plain": [
       "<IPython.core.display.HTML object>"
      ]
     },
     "metadata": {},
     "output_type": "display_data"
    },
    {
     "data": {
      "text/html": [
       " View run at <a href='https://wandb.ai/jkundemenlo/PPOCart/runs/r04ig6j7' target=\"_blank\">https://wandb.ai/jkundemenlo/PPOCart/runs/r04ig6j7</a>"
      ],
      "text/plain": [
       "<IPython.core.display.HTML object>"
      ]
     },
     "metadata": {},
     "output_type": "display_data"
    },
    {
     "name": "stderr",
     "output_type": "stream",
     "text": [
      "Epoch 975, Episode length: 221: 100%|██████████| 976/976 [03:58<00:00,  4.09it/s]\n"
     ]
    },
    {
     "data": {
      "text/html": [
       "Waiting for W&B process to finish... <strong style=\"color:green\">(success).</strong>"
      ],
      "text/plain": [
       "<IPython.core.display.HTML object>"
      ]
     },
     "metadata": {},
     "output_type": "display_data"
    },
    {
     "data": {
      "application/vnd.jupyter.widget-view+json": {
       "model_id": "9dca3766e6b64739b7f617dd49f208f2",
       "version_major": 2,
       "version_minor": 0
      },
      "text/plain": [
       "VBox(children=(Label(value='0.326 MB of 0.326 MB uploaded (0.000 MB deduped)\\r'), FloatProgress(value=1.0, max…"
      ]
     },
     "metadata": {},
     "output_type": "display_data"
    },
    {
     "data": {
      "text/html": [
       "<style>\n",
       "    table.wandb td:nth-child(1) { padding: 0 10px; text-align: left ; width: auto;} td:nth-child(2) {text-align: left ; width: 100%}\n",
       "    .wandb-row { display: flex; flex-direction: row; flex-wrap: wrap; justify-content: flex-start; width: 100% }\n",
       "    .wandb-col { display: flex; flex-direction: column; flex-basis: 100%; flex: 1; padding: 10px; }\n",
       "    </style>\n",
       "<div class=\"wandb-row\"><div class=\"wandb-col\"><h3>Run history:</h3><br/><table class=\"wandb\"><tr><td>approx_kl</td><td>▃▅▄█▁▂▁▁▁▁▃▁▆▁▁▂▁▁▃▃▁▃▂▁▂▂▁▁▂▁▁▁▁▁▁▁▁▁▁▁</td></tr><tr><td>clipfrac</td><td>▁▃▁█▁▁▁▁▁▁▁▁▃▁▁▁▁▁▁▁▁▁▁▁▁▁▁▁▁▁▁▁▁▁▁▁▁▁▁▁</td></tr><tr><td>clipped_surrogate_objective</td><td>▅▆▅█▂▄▃▂▃▂▂▂▃▃▄▃▃▃▅▆▃▅▃▃▁▄▃▃▂▃▃▃▃▃▃▃▃▃▃▃</td></tr><tr><td>entropy</td><td>█▆▃▃▄▄▁▁▃▂▃▃▃▃▄▅▄▄▂▄▅▅▄▃▄▆▄▆▂▆▆▃▄▄▄▄▅▄▄▃</td></tr><tr><td>episode_length</td><td>▁▁▂▁▂▅▂█▄▅▄▆▃▅█▄█▆▃▅▄██████▃▄▄█▇██▇██▇██</td></tr><tr><td>episode_return</td><td>▁▁▂▁▂▅▂█▄▅▄▆▃▅█▄█▆▃▅▄██████▃▄▄█▇██▇██▇██</td></tr><tr><td>learning_rate</td><td>███▇▇▇▇▇▇▆▆▆▆▆▆▅▅▅▅▅▄▄▄▄▄▄▃▃▃▃▃▂▂▂▂▂▂▁▁▁</td></tr><tr><td>total_steps</td><td>▁▁▁▂▂▂▂▂▂▃▃▃▃▃▃▄▄▄▄▄▅▅▅▅▅▅▆▆▆▆▆▇▇▇▇▇▇███</td></tr><tr><td>value_loss</td><td>▃▄▄▄▃▃▃▃▂▄▂▁▅▁▄▅▁▂▆▄▆▃▆▁▅▃▁▂█▁▃▁▁▇▅▁▂▄▁▄</td></tr><tr><td>values</td><td>▁▂▂▃▃▄▄▅▅▆▆▆▇▇▇▇▇▇██████████████████████</td></tr></table><br/></div><div class=\"wandb-col\"><h3>Run summary:</h3><br/><table class=\"wandb\"><tr><td>approx_kl</td><td>0.0</td></tr><tr><td>clipfrac</td><td>0.0</td></tr><tr><td>clipped_surrogate_objective</td><td>0.0</td></tr><tr><td>entropy</td><td>0.00546</td></tr><tr><td>episode_length</td><td>221</td></tr><tr><td>episode_return</td><td>221.0</td></tr><tr><td>learning_rate</td><td>0.0</td></tr><tr><td>total_steps</td><td>499712</td></tr><tr><td>value_loss</td><td>34.14171</td></tr><tr><td>values</td><td>80.7181</td></tr></table><br/></div></div>"
      ],
      "text/plain": [
       "<IPython.core.display.HTML object>"
      ]
     },
     "metadata": {},
     "output_type": "display_data"
    },
    {
     "data": {
      "text/html": [
       " View run <strong style=\"color:#cdcd00\">CartPole-v1__PPO_Implementation__1__1709913586</strong> at: <a href='https://wandb.ai/jkundemenlo/PPOCart/runs/r04ig6j7' target=\"_blank\">https://wandb.ai/jkundemenlo/PPOCart/runs/r04ig6j7</a><br/>Synced 5 W&B file(s), 10 media file(s), 0 artifact file(s) and 0 other file(s)"
      ],
      "text/plain": [
       "<IPython.core.display.HTML object>"
      ]
     },
     "metadata": {},
     "output_type": "display_data"
    },
    {
     "data": {
      "text/html": [
       "Find logs at: <code>./wandb/run-20240308_095948-r04ig6j7/logs</code>"
      ],
      "text/plain": [
       "<IPython.core.display.HTML object>"
      ]
     },
     "metadata": {},
     "output_type": "display_data"
    }
   ],
   "source": [
    "device = t.device(\"cuda\" if t.cuda.is_available() else \"cpu\")\n",
    "args = PPOArgs(use_wandb=True)\n",
    "trainer = PPOTrainer(args)\n",
    "trainer.train()"
   ]
  },
  {
   "cell_type": "code",
   "execution_count": null,
   "metadata": {},
   "outputs": [],
   "source": [
    "env = gym.make(\"ALE/Breakout-v5\")\n",
    "args = PPOArgs(\n",
    "    env_id = \"ALE/Breakout-v5\",\n",
    "    wandb_project_name = \"PPOAtari\",\n",
    "    use_wandb = False,\n",
    "    mode = \"atari\",\n",
    "    clip_coef = 0.1,\n",
    "    num_envs = 256,\n",
    "    num_minibatches=256,\n",
    ")\n",
    "trainer = PPOTrainer(args)\n",
    "trainer.train()"
   ]
  }
 ],
 "metadata": {
  "kernelspec": {
   "display_name": "Python 3",
   "language": "python",
   "name": "python3"
  },
  "language_info": {
   "codemirror_mode": {
    "name": "ipython",
    "version": 3
   },
   "file_extension": ".py",
   "mimetype": "text/x-python",
   "name": "python",
   "nbconvert_exporter": "python",
   "pygments_lexer": "ipython3",
   "version": "3.10.8"
  }
 },
 "nbformat": 4,
 "nbformat_minor": 2
}

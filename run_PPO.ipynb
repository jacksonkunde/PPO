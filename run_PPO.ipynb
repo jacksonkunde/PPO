{
 "cells": [
  {
   "cell_type": "code",
   "execution_count": null,
   "metadata": {},
   "outputs": [],
   "source": [
    "# Install packages\n",
    "%pip install wandb==0.13.10\n",
    "%pip install einops\n",
    "%pip install gym[atari]==0.23.1\n",
    "%pip install gym==0.23.1\n",
    "%pip install pygame\n",
    "%pip install jaxtyping\n",
    "%pip install gymnasium\n",
    "%pip install autorom[accept-rom-license]\n",
    "%pip install ale-py"
   ]
  },
  {
   "cell_type": "code",
   "execution_count": 4,
   "metadata": {},
   "outputs": [],
   "source": [
    "def in_colab():\n",
    "    try:\n",
    "        import google.colab\n",
    "        return True\n",
    "    except ImportError:\n",
    "        return False\n",
    "\n",
    "IN_COLAB = in_colab()\n",
    "\n",
    "if IN_COLAB:\n",
    "    # download files from the github repository\n",
    "    for file in ['agent.py', 'memory.py', 'trainer.py', 'utils.py', 'atari_wrappers.py']:\n",
    "      !wget https://raw.githubusercontent.com/jacksonkunde/PPO/main/{file}"
   ]
  },
  {
   "cell_type": "code",
   "execution_count": 2,
   "metadata": {},
   "outputs": [],
   "source": [
    "import os\n",
    "import time\n",
    "import sys\n",
    "from dataclasses import dataclass\n",
    "from tqdm import tqdm\n",
    "import numpy as np\n",
    "from numpy.random import Generator\n",
    "import torch as t\n",
    "from torch import Tensor\n",
    "from torch.optim.optimizer import Optimizer\n",
    "import gym\n",
    "import gym.envs.registration\n",
    "from gym.envs.classic_control.cartpole import CartPoleEnv\n",
    "import torch.nn as nn\n",
    "import torch.optim as optim\n",
    "from torch.distributions.categorical import Categorical\n",
    "import einops\n",
    "from pathlib import Path\n",
    "from typing import List, Tuple, Literal, Union, Optional\n",
    "from jaxtyping import Float, Int\n",
    "import wandb\n",
    "from IPython.display import clear_output\n",
    "import matplotlib.pyplot as plt\n",
    "from matplotlib.animation import FuncAnimation\n",
    "import warnings\n",
    "\n",
    "# import files\n",
    "from trainer import PPOTrainer\n",
    "from utils import PPOArgs\n",
    "\n",
    "warnings.filterwarnings('ignore')\n",
    "\n",
    "Arr = np.ndarray\n",
    "\n",
    "device = t.device(\"cuda\" if t.cuda.is_available() else \"cpu\")\n",
    "\n",
    "MAIN = __name__ == \"__main__\" # TODO: check if needed later"
   ]
  },
  {
   "cell_type": "markdown",
   "metadata": {},
   "source": [
    "## Run CartPole Env"
   ]
  },
  {
   "cell_type": "code",
   "execution_count": null,
   "metadata": {},
   "outputs": [],
   "source": [
    "device = t.device(\"cuda\" if t.cuda.is_available() else \"cpu\")\n",
    "args = PPOArgs(use_wandb=True)\n",
    "trainer = PPOTrainer(args)\n",
    "trainer.train()"
   ]
  },
  {
   "cell_type": "markdown",
   "metadata": {},
   "source": [
    "## Run Breakout Env"
   ]
  },
  {
   "cell_type": "code",
   "execution_count": null,
   "metadata": {},
   "outputs": [],
   "source": [
    "env = gym.make(\"ALE/Breakout-v5\")\n",
    "args = PPOArgs(\n",
    "    env_id = \"ALE/Breakout-v5\",\n",
    "    wandb_project_name = \"PPOAtari\",\n",
    "    use_wandb = False,\n",
    "    mode = \"atari\",\n",
    "    clip_coef = 0.1,\n",
    "    num_envs = 256,\n",
    "    num_minibatches=256,\n",
    ")\n",
    "trainer = PPOTrainer(args)\n",
    "trainer.train()"
   ]
  }
 ],
 "metadata": {
  "kernelspec": {
   "display_name": "Python 3",
   "language": "python",
   "name": "python3"
  },
  "language_info": {
   "codemirror_mode": {
    "name": "ipython",
    "version": 3
   },
   "file_extension": ".py",
   "mimetype": "text/x-python",
   "name": "python",
   "nbconvert_exporter": "python",
   "pygments_lexer": "ipython3",
   "version": "3.10.8"
  }
 },
 "nbformat": 4,
 "nbformat_minor": 2
}
